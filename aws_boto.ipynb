{
 "cells": [
  {
   "cell_type": "code",
   "execution_count": 4,
   "metadata": {},
   "outputs": [],
   "source": [
    "import boto3"
   ]
  },
  {
   "cell_type": "code",
   "execution_count": 5,
   "metadata": {},
   "outputs": [
    {
     "data": {
      "text/plain": [
       "'1.26.15'"
      ]
     },
     "execution_count": 5,
     "metadata": {},
     "output_type": "execute_result"
    }
   ],
   "source": [
    "# check if boto3 is installed\n",
    "boto3.__version__"
   ]
  },
  {
   "cell_type": "code",
   "execution_count": 95,
   "metadata": {},
   "outputs": [],
   "source": [
    "from dotenv import load_dotenv\n",
    "import os\n",
    "load_dotenv()\n",
    "#environment variables\n",
    "ACCESS_KEY_ID = os.getenv(\"ACCESS_KEY_ID\")\n",
    "AWS_SECRET_KEY = os.getenv(\"AWS_SECRET_KEY\")\n",
    "\n"
   ]
  },
  {
   "cell_type": "code",
   "execution_count": 96,
   "metadata": {},
   "outputs": [],
   "source": [
    "s3= boto3.client('s3',\n",
    "                 region_name='eu-central-1',\n",
    "                 aws_access_key_id=f'{ACCESS_KEY_ID}',\n",
    "                 aws_secret_access_key=f'{AWS_SECRET_KEY}')"
   ]
  },
  {
   "cell_type": "code",
   "execution_count": 97,
   "metadata": {},
   "outputs": [
    {
     "name": "stdout",
     "output_type": "stream",
     "text": [
      "{'Name': 'my-first-bucket-128341164379', 'CreationDate': datetime.datetime(2022, 11, 24, 14, 2, 29, tzinfo=tzutc())}\n",
      "{'Name': 'samil-aws-config', 'CreationDate': datetime.datetime(2022, 11, 24, 11, 11, 58, tzinfo=tzutc())}\n"
     ]
    }
   ],
   "source": [
    "respose = s3.list_buckets()\n",
    "for bucket in respose['Buckets']:\n",
    "    print(bucket)"
   ]
  },
  {
   "cell_type": "code",
   "execution_count": 77,
   "metadata": {},
   "outputs": [],
   "source": [
    "bucket = s3.create_bucket(Bucket='my-first-bucket-128341164379',\n",
    "                          CreateBucketConfiguration={'LocationConstraint': 'eu-central-1'})"
   ]
  },
  {
   "cell_type": "markdown",
   "metadata": {},
   "source": [
    "- Get the buckets from S3.\n",
    "- Iterate over the bucket key from response to access the list of buckets.\n",
    "- Print the name of each bucket."
   ]
  },
  {
   "cell_type": "code",
   "execution_count": 78,
   "metadata": {},
   "outputs": [
    {
     "name": "stdout",
     "output_type": "stream",
     "text": [
      "my-first-bucket-128341164379 2022-11-24 14:02:29+00:00\n",
      "samil-aws-config 2022-11-24 11:11:58+00:00\n"
     ]
    }
   ],
   "source": [
    "response = s3.list_buckets()\n",
    "for bucket in response['Buckets']:\n",
    "    print(bucket['Name'], bucket['CreationDate'])"
   ]
  },
  {
   "cell_type": "code",
   "execution_count": 70,
   "metadata": {},
   "outputs": [],
   "source": [
    "response = s3.delete_bucket(Bucket='my-first-bucket-128341164379')"
   ]
  },
  {
   "cell_type": "code",
   "execution_count": null,
   "metadata": {},
   "outputs": [],
   "source": [
    "# Delete all the buckets with 'gim', create replacements.\n",
    "for bucket in response['Buckets']:\n",
    "  if 'gim' in bucket['Name']:\n",
    "      s3.delete_bucket(Bucket=bucket['Name'])\n",
    "    "
   ]
  },
  {
   "cell_type": "code",
   "execution_count": 79,
   "metadata": {},
   "outputs": [],
   "source": [
    "# Upload a new file.\n",
    "# Filename is the local file path.\n",
    "# Bucket is the name of the bucket.\n",
    "# Key is what we want to call the object in S3.\n",
    "s3.upload_file(Filename= '/Users/ssamilozkan/Desktop/pyspark/airports.csv' ,\n",
    "               Bucket= 'my-first-bucket-128341164379' , \n",
    "               Key= 'aiport.csv' )"
   ]
  },
  {
   "cell_type": "code",
   "execution_count": 83,
   "metadata": {},
   "outputs": [
    {
     "name": "stdout",
     "output_type": "stream",
     "text": [
      "aiport.csv 84548 2022-11-24 14:02:49+00:00\n"
     ]
    }
   ],
   "source": [
    "# List all the objects in the bucket.\n",
    "response = s3.list_objects(Bucket= 'my-first-bucket-128341164379', MaxKeys=2)\n",
    "for obj in response['Contents']:\n",
    "    print(obj['Key'], obj['Size'], obj['LastModified'])"
   ]
  },
  {
   "cell_type": "code",
   "execution_count": 85,
   "metadata": {},
   "outputs": [],
   "source": [
    "# Download the file.\n",
    "# You can see the new file in the current directory.\n",
    "s3.download_file(Filename= '/Users/ssamilozkan/Desktop/pyspark/airports2.csv' ,\n",
    "                 Bucket = 'my-first-bucket-128341164379' ,\n",
    "                 Key = 'aiport.csv' )"
   ]
  },
  {
   "cell_type": "code",
   "execution_count": null,
   "metadata": {},
   "outputs": [],
   "source": [
    "# Deleteing objects\n",
    "s3.delete_object(Bucket= 'my-first-bucket-128341164379' , Key= 'aiport.csv' )"
   ]
  },
  {
   "cell_type": "code",
   "execution_count": 87,
   "metadata": {},
   "outputs": [
    {
     "data": {
      "text/plain": [
       "{'ResponseMetadata': {'RequestId': 'BAD326PP8R98N4GJ',\n",
       "  'HostId': 'Qd/Qt+kdZhbzfm/fsBkeQBMiYaNiJ+WVC797NgUIUS5GCZMHfA4jMpKPPINzVlPmV8gg+Kkbn2U=',\n",
       "  'HTTPStatusCode': 200,\n",
       "  'HTTPHeaders': {'x-amz-id-2': 'Qd/Qt+kdZhbzfm/fsBkeQBMiYaNiJ+WVC797NgUIUS5GCZMHfA4jMpKPPINzVlPmV8gg+Kkbn2U=',\n",
       "   'x-amz-request-id': 'BAD326PP8R98N4GJ',\n",
       "   'date': 'Thu, 24 Nov 2022 14:09:26 GMT',\n",
       "   'last-modified': 'Thu, 24 Nov 2022 14:02:49 GMT',\n",
       "   'etag': '\"a31ea87f5412c40ed4907c38478e5c80\"',\n",
       "   'accept-ranges': 'bytes',\n",
       "   'content-type': 'binary/octet-stream',\n",
       "   'server': 'AmazonS3',\n",
       "   'content-length': '84548'},\n",
       "  'RetryAttempts': 0},\n",
       " 'AcceptRanges': 'bytes',\n",
       " 'LastModified': datetime.datetime(2022, 11, 24, 14, 2, 49, tzinfo=tzutc()),\n",
       " 'ContentLength': 84548,\n",
       " 'ETag': '\"a31ea87f5412c40ed4907c38478e5c80\"',\n",
       " 'ContentType': 'binary/octet-stream',\n",
       " 'Metadata': {}}"
      ]
     },
     "execution_count": 87,
     "metadata": {},
     "output_type": "execute_result"
    }
   ],
   "source": [
    "# object metadata\n",
    "s3.head_object(Bucket= 'my-first-bucket-128341164379' , Key= 'aiport.csv' )"
   ]
  },
  {
   "cell_type": "code",
   "execution_count": null,
   "metadata": {},
   "outputs": [],
   "source": [
    "# List only objects that start with '2018/final_'\n",
    "response = s3.list_objects(Bucket='gid-staging', \n",
    "                           Prefix='2018/final_')\n",
    "\n",
    "# Iterate over the objects\n",
    "if 'Contents' in response:\n",
    "  for obj in response['Contents']:\n",
    "      # Delete the object\n",
    "      s3.delete_object(Bucket='gid-staging', Key=obj['Key'])\n",
    "\n",
    "# Print the remaining objects in the bucket\n",
    "response = s3.list_objects(Bucket='gid-staging')\n",
    "\n",
    "for obj in response['Contents']:\n",
    "  \tprint(obj['Key'])"
   ]
  },
  {
   "cell_type": "code",
   "execution_count": null,
   "metadata": {},
   "outputs": [],
   "source": []
  }
 ],
 "metadata": {
  "kernelspec": {
   "display_name": "Python 3.10.6 ('pvenv': venv)",
   "language": "python",
   "name": "python3"
  },
  "language_info": {
   "codemirror_mode": {
    "name": "ipython",
    "version": 3
   },
   "file_extension": ".py",
   "mimetype": "text/x-python",
   "name": "python",
   "nbconvert_exporter": "python",
   "pygments_lexer": "ipython3",
   "version": "3.10.6"
  },
  "orig_nbformat": 4,
  "vscode": {
   "interpreter": {
    "hash": "699a4b6e8fbb2484f9afd79cc742583a739fbcd250a0268074077a67114f0493"
   }
  }
 },
 "nbformat": 4,
 "nbformat_minor": 2
}
